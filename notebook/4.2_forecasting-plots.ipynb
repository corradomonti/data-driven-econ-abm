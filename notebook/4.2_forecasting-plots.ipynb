{
 "cells": [
  {
   "cell_type": "code",
   "execution_count": 1,
   "metadata": {},
   "outputs": [
    {
     "data": {
      "text/html": [
       "<h3>Runned on Corrado-Centai-Macbook.homenet.telecomitalia.it</h3><h4>Last commit: 43c1181 Clean up\n",
       "</h4><h4>Conda env: learnable-econ-abm</h4>"
      ],
      "text/plain": [
       "<IPython.core.display.HTML object>"
      ]
     },
     "metadata": {},
     "output_type": "display_data"
    }
   ],
   "source": [
    "from IPython.display import display, HTML\n",
    "import matplotlib.pyplot as plt\n",
    "import numpy as np\n",
    "import pandas as pd\n",
    "import seaborn as sns\n",
    "\n",
    "from collections import namedtuple, defaultdict, Counter\n",
    "from glob import glob\n",
    "import itertools\n",
    "import os\n",
    "import pickle\n",
    "import re\n",
    "import socket\n",
    "import subprocess\n",
    "import sys\n",
    "\n",
    "np.set_printoptions(suppress=True, precision=2, threshold=20)\n",
    "sys.path += ['../src/']\n",
    "\n",
    "display(HTML(\"<h3>Runned on %s</h3><h4>Last commit: %s</h4><h4>Conda env: %s</h4>\" % (\n",
    "    socket.gethostname(),\n",
    "    subprocess.run([\"git\",\"log\", \"-1\", \"--pretty=%h %s\"],\n",
    "        check=False, capture_output=True).stdout.decode() or 'none.',\n",
    "    (re.findall(\"\"\".*envs[\\\\\\/](.*?)[\\\\\\/]\"\"\", sys.executable) or [sys.executable])[0]\n",
    ")))\n"
   ]
  },
  {
   "cell_type": "code",
   "execution_count": 2,
   "metadata": {},
   "outputs": [],
   "source": [
    "renaming = {\n",
    "    'smart random MT': 'Proportional',\n",
    "    'time series MT': 'Time series',\n",
    "    'constant predictor': 'Constant predictor',\n",
    "    'learned MT': 'Learnable ABM',\n",
    "}"
   ]
  },
  {
   "cell_type": "code",
   "execution_count": 3,
   "metadata": {},
   "outputs": [
    {
     "data": {
      "text/html": [
       "<svg  width=\"550\" height=\"55\"><rect x=\"0\" y=\"0\" width=\"55\" height=\"55\" style=\"fill:#4c72b0;stroke-width:2;stroke:rgb(255,255,255)\"/><rect x=\"55\" y=\"0\" width=\"55\" height=\"55\" style=\"fill:#dd8452;stroke-width:2;stroke:rgb(255,255,255)\"/><rect x=\"110\" y=\"0\" width=\"55\" height=\"55\" style=\"fill:#55a868;stroke-width:2;stroke:rgb(255,255,255)\"/><rect x=\"165\" y=\"0\" width=\"55\" height=\"55\" style=\"fill:#c44e52;stroke-width:2;stroke:rgb(255,255,255)\"/><rect x=\"220\" y=\"0\" width=\"55\" height=\"55\" style=\"fill:#8172b3;stroke-width:2;stroke:rgb(255,255,255)\"/><rect x=\"275\" y=\"0\" width=\"55\" height=\"55\" style=\"fill:#937860;stroke-width:2;stroke:rgb(255,255,255)\"/><rect x=\"330\" y=\"0\" width=\"55\" height=\"55\" style=\"fill:#da8bc3;stroke-width:2;stroke:rgb(255,255,255)\"/><rect x=\"385\" y=\"0\" width=\"55\" height=\"55\" style=\"fill:#8c8c8c;stroke-width:2;stroke:rgb(255,255,255)\"/><rect x=\"440\" y=\"0\" width=\"55\" height=\"55\" style=\"fill:#ccb974;stroke-width:2;stroke:rgb(255,255,255)\"/><rect x=\"495\" y=\"0\" width=\"55\" height=\"55\" style=\"fill:#64b5cd;stroke-width:2;stroke:rgb(255,255,255)\"/></svg>"
      ],
      "text/plain": [
       "[(0.2980392156862745, 0.4470588235294118, 0.6901960784313725),\n",
       " (0.8666666666666667, 0.5176470588235295, 0.3215686274509804),\n",
       " (0.3333333333333333, 0.6588235294117647, 0.40784313725490196),\n",
       " (0.7686274509803922, 0.3058823529411765, 0.3215686274509804),\n",
       " (0.5058823529411764, 0.4470588235294118, 0.7019607843137254),\n",
       " (0.5764705882352941, 0.47058823529411764, 0.3764705882352941),\n",
       " (0.8549019607843137, 0.5450980392156862, 0.7647058823529411),\n",
       " (0.5490196078431373, 0.5490196078431373, 0.5490196078431373),\n",
       " (0.8, 0.7254901960784313, 0.4549019607843137),\n",
       " (0.39215686274509803, 0.7098039215686275, 0.803921568627451)]"
      ]
     },
     "metadata": {},
     "output_type": "display_data"
    }
   ],
   "source": [
    "def define_palette():\n",
    "    (blue, orange, green, red, purple, \n",
    "     brown, pink, gray, gold, azure) = sns.color_palette('deep')\n",
    "    palette = {\n",
    "        \"smart random MT\": gray,\n",
    "        \"time series MT\": azure,\n",
    "        'constant predictor':purple,\n",
    "        \"learned MT\": orange,\n",
    "    }\n",
    "    return {renaming[k]: v for k, v in palette.items()}\n",
    "\n",
    "display(sns.color_palette('deep'))\n",
    "palette = define_palette()"
   ]
  },
  {
   "cell_type": "code",
   "execution_count": 4,
   "metadata": {},
   "outputs": [
    {
     "data": {
      "text/html": [
       "<h1>Nd</h1>"
      ],
      "text/plain": [
       "<IPython.core.display.HTML object>"
      ]
     },
     "metadata": {},
     "output_type": "display_data"
    },
    {
     "data": {
      "text/html": [
       "<h4>Median RMSE</h1>"
      ],
      "text/plain": [
       "<IPython.core.display.HTML object>"
      ]
     },
     "metadata": {},
     "output_type": "display_data"
    },
    {
     "data": {
      "text/plain": [
       "{'smart random MT': 2.3438191255277623,\n",
       " 'time series MT': 1.4169693027101322,\n",
       " 'constant predictor': 0.6681187980935228,\n",
       " 'learned MT': 0.0693794304258864}"
      ]
     },
     "metadata": {},
     "output_type": "display_data"
    },
    {
     "data": {
      "text/html": [
       "<h4>Mean RMSE</h1>"
      ],
      "text/plain": [
       "<IPython.core.display.HTML object>"
      ]
     },
     "metadata": {},
     "output_type": "display_data"
    },
    {
     "data": {
      "text/plain": [
       "{'smart random MT': 2.543680691999803,\n",
       " 'time series MT': 1.4250393649842577,\n",
       " 'constant predictor': 0.7955872728550502,\n",
       " 'learned MT': 0.0939224956351172}"
      ]
     },
     "metadata": {},
     "output_type": "display_data"
    },
    {
     "data": {
      "text/html": [
       "<h1>P</h1>"
      ],
      "text/plain": [
       "<IPython.core.display.HTML object>"
      ]
     },
     "metadata": {},
     "output_type": "display_data"
    },
    {
     "data": {
      "text/html": [
       "<h4>Median RMSE</h1>"
      ],
      "text/plain": [
       "<IPython.core.display.HTML object>"
      ]
     },
     "metadata": {},
     "output_type": "display_data"
    },
    {
     "data": {
      "text/plain": [
       "{'smart random MT': 0.041300502990090096,\n",
       " 'time series MT': 0.02540306942441085,\n",
       " 'constant predictor': 0.15163402285619015,\n",
       " 'learned MT': 0.0019703287645843}"
      ]
     },
     "metadata": {},
     "output_type": "display_data"
    },
    {
     "data": {
      "text/html": [
       "<h4>Mean RMSE</h1>"
      ],
      "text/plain": [
       "<IPython.core.display.HTML object>"
      ]
     },
     "metadata": {},
     "output_type": "display_data"
    },
    {
     "data": {
      "text/plain": [
       "{'smart random MT': 0.04293547990792139,\n",
       " 'time series MT': 0.02501041376578806,\n",
       " 'constant predictor': 0.14775747717983573,\n",
       " 'learned MT': 0.00234939501613448}"
      ]
     },
     "metadata": {},
     "output_type": "display_data"
    }
   ],
   "source": [
    "for var_name in (\"Nd\", \"P\"):\n",
    "    df = pd.read_csv(\"../data/main-figure-forecasting-only-\" + var_name + \".csv\")\n",
    "    display(HTML(\"<h1>\" + var_name + \"</h1>\"))\n",
    "    medians = {g: df[df.group == g].rmse.median() for g in df.group.unique()}\n",
    "    display(HTML(\"<h4>Median RMSE</h1>\"))\n",
    "    display(medians)\n",
    "    means = {g: df[df.group == g].rmse.mean() for g in df.group.unique()}\n",
    "    display(HTML(\"<h4>Mean RMSE</h1>\"))\n",
    "    display(means)"
   ]
  },
  {
   "cell_type": "code",
   "execution_count": 5,
   "metadata": {},
   "outputs": [
    {
     "data": {
      "image/png": "[encoded data removed]",
      "text/plain": [
       "<Figure size 432x244.8 with 1 Axes>"
      ]
     },
     "metadata": {},
     "output_type": "display_data"
    },
    {
     "data": {
      "image/png": "[encoded data removed]",
      "text/plain": [
       "<Figure size 432x244.8 with 1 Axes>"
      ]
     },
     "metadata": {},
     "output_type": "display_data"
    }
   ],
   "source": [
    "for (var_name, xlabel, show_ys) in [\n",
    "    (\"Nd\", \"RMSE $D_t$\", True),\n",
    "    (\"P\", \"RMSE $P_t$\", False)\n",
    "]:\n",
    "    df = pd.read_csv(\"../data/main-figure-forecasting-only-\" + var_name + \".csv\")\n",
    "    df.group = df.group.apply(renaming.__getitem__)\n",
    "\n",
    "    plt.style.use('seaborn')\n",
    "    sns.set_style(\"whitegrid\")\n",
    "    plt.figure(figsize=(6, 3.4))\n",
    "\n",
    "    ax = sns.boxplot(x=\"rmse\", y=\"group\", data=df,\n",
    "        whis=[0, 100],\n",
    "        width=.6, \n",
    "        palette=palette,\n",
    "    )\n",
    "\n",
    "    sns.stripplot(x=\"rmse\", y=\"group\", data=df,\n",
    "        palette=palette,\n",
    "        size=8, jitter=0.06,\n",
    "        edgecolor=\"black\",\n",
    "        linewidth=0.5,\n",
    "    )\n",
    "\n",
    "    ax.set_xlabel(xlabel)\n",
    "    ax.set_ylabel(\"\")\n",
    "    if not show_ys:\n",
    "        ax.set_yticks([])\n",
    "    plt.savefig(f\"../paper/fig/forecasting-{var_name}.pdf\", bbox_inches=\"tight\")"
   ]
  }
 ],
 "metadata": {
  "kernelspec": {
   "display_name": "learnable-econ-abm",
   "language": "python",
   "name": "learnable-econ-abm"
  },
  "language_info": {
   "codemirror_mode": {
    "name": "ipython",
    "version": 3
   },
   "file_extension": ".py",
   "mimetype": "text/x-python",
   "name": "python",
   "nbconvert_exporter": "python",
   "pygments_lexer": "ipython3",
   "version": "3.7.7"
  }
 },
 "nbformat": 4,
 "nbformat_minor": 4
}
