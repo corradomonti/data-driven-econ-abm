{
 "cells": [
  {
   "cell_type": "code",
   "execution_count": 1,
   "metadata": {},
   "outputs": [
    {
     "data": {
      "text/html": [
       "<h3>Runned on Corrado-Centai-Macbook.local</h3><h4>Last commit: b7bc819 Update experiments\n",
       "</h4><h4>Conda env: learnable-econ-abm</h4>"
      ],
      "text/plain": [
       "<IPython.core.display.HTML object>"
      ]
     },
     "metadata": {},
     "output_type": "display_data"
    }
   ],
   "source": [
    "%matplotlib inline\n",
    "\n",
    "from IPython.display import display, HTML\n",
    "from ipywidgets import interactive\n",
    "import matplotlib.pyplot as plt\n",
    "# import networkx as nx\n",
    "import numpy as np\n",
    "import pandas as pd\n",
    "import scipy.stats\n",
    "import seaborn as sns\n",
    "import sklearn.metrics\n",
    "# import tensorflow as tf\n",
    "# import tensorflow_probability as tfp\n",
    "from tqdm.notebook import tqdm\n",
    "\n",
    "from collections import namedtuple, defaultdict, Counter\n",
    "import functools\n",
    "from glob import glob\n",
    "import itertools\n",
    "import os\n",
    "import pickle\n",
    "import re\n",
    "import socket\n",
    "import subprocess\n",
    "import sys\n",
    "from time import sleep\n",
    "\n",
    "plt.style.use('seaborn')\n",
    "# tf.compat.v1.logging.set_verbosity(tf.compat.v1.logging.ERROR)\n",
    "np.set_printoptions(suppress=True, precision=2, threshold=20)\n",
    "sys.path += ['../src/']\n",
    "\n",
    "display(HTML(\"<h3>Runned on %s</h3><h4>Last commit: %s</h4><h4>Conda env: %s</h4>\" % (\n",
    "    socket.gethostname(),\n",
    "    subprocess.run([\"git\",\"log\", \"-1\", \"--pretty=%h %s\"],\n",
    "        check=False, capture_output=True).stdout.decode() or 'none.',\n",
    "    (re.findall(\"\"\".*envs[\\\\\\/](.*?)[\\\\\\/]\"\"\", sys.executable) or [sys.executable])[0]\n",
    ")))\n"
   ]
  },
  {
   "cell_type": "code",
   "execution_count": 2,
   "metadata": {},
   "outputs": [
    {
     "name": "stdout",
     "output_type": "stream",
     "text": [
      "{'2a4ecb25997a2822cc9b10841572ca436a908aa3'}\n",
      "92\n"
     ]
    }
   ],
   "source": [
    "df_all = pd.read_csv(\"../data/oabm-experiments/main-experiments-original-abm.csv\")\n",
    "print(set(df_all[\"tags.mlflow.source.git.commit\"].values))\n",
    "df_all = df_all[df_all.status == \"FINISHED\"]\n",
    "if 'tags.crashed' in df_all.columns:\n",
    "    df_all = df_all[df_all['tags.crashed'].isna()]\n",
    "params = [c[7:] for c in df_all.columns if c.startswith(\"params.\") ]\n",
    "df_all.columns = [c[7:] if c.startswith(\"params.\") else c for c in df_all.columns]\n",
    "print(len(df_all))"
   ]
  },
  {
   "cell_type": "code",
   "execution_count": 3,
   "metadata": {},
   "outputs": [
    {
     "data": {
      "text/plain": [
       "array([256])"
      ]
     },
     "execution_count": 3,
     "metadata": {},
     "output_type": "execute_result"
    }
   ],
   "source": [
    "df_all.num_considered_Dbs.unique()"
   ]
  },
  {
   "cell_type": "code",
   "execution_count": 4,
   "metadata": {},
   "outputs": [],
   "source": [
    "deltas = (1/16., )\n",
    "stddevs = [1.]\n",
    "num_Dbs = [256]\n",
    "# traces = list(range(1, 21))\n",
    "traces = list(range(11, 21))"
   ]
  },
  {
   "cell_type": "code",
   "execution_count": 5,
   "metadata": {},
   "outputs": [
    {
     "data": {
      "text/plain": [
       "92"
      ]
     },
     "execution_count": 5,
     "metadata": {},
     "output_type": "execute_result"
    }
   ],
   "source": [
    "df_all = df_all[df_all.learning_rate == 0.001].copy()\n",
    "df_all = df_all[df_all.delta.isin(deltas)].copy()\n",
    "df_all = df_all[df_all.num_deals_error_stddev.isin(stddevs)]\n",
    "df_all = df_all[df_all.num_considered_Dbs.isin(num_Dbs)]\n",
    "df_all = df_all[~(\n",
    "    (df_all['tags.mlflow.source.git.commit'] == \"1487a8a39b37170cd13a04face00f1060f3098f4\") &\n",
    "    df_all.trace_num.isin((14, 18))\n",
    ")]\n",
    "len(df_all)"
   ]
  },
  {
   "cell_type": "code",
   "execution_count": 6,
   "metadata": {},
   "outputs": [
    {
     "name": "stdout",
     "output_type": "stream",
     "text": [
      "MISSING: 256, 1.0: trace 14, seed 51\n",
      "MISSING: 256, 1.0: trace 15, seed 51\n",
      "MISSING: 256, 1.0: trace 16, seed 51\n",
      "MISSING: 256, 1.0: trace 17, seed 51\n",
      "MISSING: 256, 1.0: trace 18, seed 51\n",
      "MISSING: 256, 1.0: trace 19, seed 51\n",
      "MISSING: 256, 1.0: trace 20, seed 51\n"
     ]
    }
   ],
   "source": [
    "for num_deals_error_stddev in stddevs:\n",
    "    for num_considered_Dbs in num_Dbs:\n",
    "        for trace_num in traces:\n",
    "            for seed in df_all.seed.unique():\n",
    "                exp_string = f\"{num_considered_Dbs}, {num_deals_error_stddev}: trace {trace_num}, seed {seed}\"\n",
    "                df_experiment = df_all[\n",
    "                            (df_all['num_deals_error_stddev'] == num_deals_error_stddev) &\n",
    "                            (df_all['num_considered_Dbs'] == num_considered_Dbs) &\n",
    "                            (df_all['trace_num'] == trace_num) &\n",
    "                            (df_all['seed'] == seed)\n",
    "                      ]\n",
    "                num_experiments = len(df_experiment)\n",
    "                if num_experiments == 0:\n",
    "                    print(\"MISSING:\", exp_string)\n",
    "                elif num_experiments > 1:\n",
    "                    print(\"Duplicate:\", exp_string)\n",
    "                    print(set(df_experiment[\"tags.mlflow.source.git.commit\"].values))"
   ]
  },
  {
   "cell_type": "code",
   "execution_count": 7,
   "metadata": {},
   "outputs": [
    {
     "data": {
      "text/html": [
       "<h1>Parameters Not Unique</h1>"
      ],
      "text/plain": [
       "<IPython.core.display.HTML object>"
      ]
     },
     "metadata": {},
     "output_type": "display_data"
    },
    {
     "data": {
      "text/html": [
       "<div>\n",
       "<style scoped>\n",
       "    .dataframe tbody tr th:only-of-type {\n",
       "        vertical-align: middle;\n",
       "    }\n",
       "\n",
       "    .dataframe tbody tr th {\n",
       "        vertical-align: top;\n",
       "    }\n",
       "\n",
       "    .dataframe thead th {\n",
       "        text-align: right;\n",
       "    }\n",
       "</style>\n",
       "<table border=\"1\" class=\"dataframe\">\n",
       "  <thead>\n",
       "    <tr style=\"text-align: right;\">\n",
       "      <th></th>\n",
       "      <th>0</th>\n",
       "      <th>1</th>\n",
       "      <th>2</th>\n",
       "      <th>3</th>\n",
       "      <th>4</th>\n",
       "      <th>5</th>\n",
       "      <th>6</th>\n",
       "      <th>7</th>\n",
       "      <th>8</th>\n",
       "      <th>9</th>\n",
       "      <th>10</th>\n",
       "    </tr>\n",
       "  </thead>\n",
       "  <tbody>\n",
       "    <tr>\n",
       "      <th>trace_num</th>\n",
       "      <td>10</td>\n",
       "      <td>11</td>\n",
       "      <td>12</td>\n",
       "      <td>13</td>\n",
       "      <td>14</td>\n",
       "      <td>15</td>\n",
       "      <td>16</td>\n",
       "      <td>17</td>\n",
       "      <td>18</td>\n",
       "      <td>19.0</td>\n",
       "      <td>20.0</td>\n",
       "    </tr>\n",
       "    <tr>\n",
       "      <th>seed</th>\n",
       "      <td>43</td>\n",
       "      <td>44</td>\n",
       "      <td>45</td>\n",
       "      <td>46</td>\n",
       "      <td>47</td>\n",
       "      <td>48</td>\n",
       "      <td>49</td>\n",
       "      <td>50</td>\n",
       "      <td>51</td>\n",
       "      <td></td>\n",
       "      <td></td>\n",
       "    </tr>\n",
       "  </tbody>\n",
       "</table>\n",
       "</div>"
      ],
      "text/plain": [
       "           0   1   2   3   4   5   6   7   8     9     10\n",
       "trace_num  10  11  12  13  14  15  16  17  18  19.0  20.0\n",
       "seed       43  44  45  46  47  48  49  50  51            "
      ]
     },
     "metadata": {},
     "output_type": "display_data"
    },
    {
     "data": {
      "text/html": [
       "<h1>Unique Parameters</h1>"
      ],
      "text/plain": [
       "<IPython.core.display.HTML object>"
      ]
     },
     "metadata": {},
     "output_type": "display_data"
    },
    {
     "data": {
      "text/html": [
       "<div>\n",
       "<style scoped>\n",
       "    .dataframe tbody tr th:only-of-type {\n",
       "        vertical-align: middle;\n",
       "    }\n",
       "\n",
       "    .dataframe tbody tr th {\n",
       "        vertical-align: top;\n",
       "    }\n",
       "\n",
       "    .dataframe thead th {\n",
       "        text-align: right;\n",
       "    }\n",
       "</style>\n",
       "<table border=\"1\" class=\"dataframe\">\n",
       "  <thead>\n",
       "    <tr style=\"text-align: right;\">\n",
       "      <th></th>\n",
       "      <th>Value</th>\n",
       "    </tr>\n",
       "  </thead>\n",
       "  <tbody>\n",
       "    <tr>\n",
       "      <th>use_relative_error</th>\n",
       "      <td>False</td>\n",
       "    </tr>\n",
       "    <tr>\n",
       "      <th>price_error_stddev</th>\n",
       "      <td>1.0</td>\n",
       "    </tr>\n",
       "    <tr>\n",
       "      <th>Gammak</th>\n",
       "      <td>[0.5 0.4 0.1]</td>\n",
       "    </tr>\n",
       "    <tr>\n",
       "      <th>delta</th>\n",
       "      <td>0.0625</td>\n",
       "    </tr>\n",
       "    <tr>\n",
       "      <th>epochs</th>\n",
       "      <td>5</td>\n",
       "    </tr>\n",
       "    <tr>\n",
       "      <th>num_restarts</th>\n",
       "      <td>1</td>\n",
       "    </tr>\n",
       "    <tr>\n",
       "      <th>N</th>\n",
       "      <td>1000</td>\n",
       "    </tr>\n",
       "    <tr>\n",
       "      <th>num_deals_error_stddev</th>\n",
       "      <td>1.0</td>\n",
       "    </tr>\n",
       "    <tr>\n",
       "      <th>Q</th>\n",
       "      <td>500</td>\n",
       "    </tr>\n",
       "    <tr>\n",
       "      <th>num_considered_Dbs</th>\n",
       "      <td>256</td>\n",
       "    </tr>\n",
       "    <tr>\n",
       "      <th>learning_steps</th>\n",
       "      <td>4</td>\n",
       "    </tr>\n",
       "    <tr>\n",
       "      <th>max_iteration</th>\n",
       "      <td>100</td>\n",
       "    </tr>\n",
       "    <tr>\n",
       "      <th>learning_rate</th>\n",
       "      <td>0.001</td>\n",
       "    </tr>\n",
       "    <tr>\n",
       "      <th>M0_initialization_variance</th>\n",
       "      <td>1</td>\n",
       "    </tr>\n",
       "    <tr>\n",
       "      <th>threshold</th>\n",
       "      <td>0.05</td>\n",
       "    </tr>\n",
       "  </tbody>\n",
       "</table>\n",
       "</div>"
      ],
      "text/plain": [
       "                                    Value\n",
       "use_relative_error                  False\n",
       "price_error_stddev                    1.0\n",
       "Gammak                      [0.5 0.4 0.1]\n",
       "delta                              0.0625\n",
       "epochs                                  5\n",
       "num_restarts                            1\n",
       "N                                    1000\n",
       "num_deals_error_stddev                1.0\n",
       "Q                                     500\n",
       "num_considered_Dbs                    256\n",
       "learning_steps                          4\n",
       "max_iteration                         100\n",
       "learning_rate                       0.001\n",
       "M0_initialization_variance              1\n",
       "threshold                            0.05"
      ]
     },
     "metadata": {},
     "output_type": "display_data"
    }
   ],
   "source": [
    "params_not_unique = dict()\n",
    "params_unique = dict()\n",
    "for f in params:\n",
    "    values = set(df_all[f])\n",
    "    if len(values) > 1:\n",
    "        params_not_unique[f] = values\n",
    "    else:\n",
    "        params_unique[f] = values\n",
    "\n",
    "display(HTML(\"<h1>Parameters Not Unique</h1>\"))\n",
    "display(pd.DataFrame(index=params_not_unique.keys(), data=params_not_unique.values()).fillna(''))\n",
    "\n",
    "display(HTML(\"<h1>Unique Parameters</h1>\"))\n",
    "display(pd.DataFrame(index=params_unique.keys(), data=params_unique.values(), columns=[\"Value\"]).fillna(''))"
   ]
  },
  {
   "cell_type": "code",
   "execution_count": 8,
   "metadata": {},
   "outputs": [
    {
     "name": "stdout",
     "output_type": "stream",
     "text": [
      " 11 1.0 256 has 9 experiments\n",
      " 12 1.0 256 has 9 experiments\n",
      " 13 1.0 256 has 9 experiments\n",
      " 14 1.0 256 has 8 experiments\n",
      " 15 1.0 256 has 8 experiments\n",
      " 16 1.0 256 has 8 experiments\n",
      " 17 1.0 256 has 8 experiments\n",
      " 18 1.0 256 has 8 experiments\n",
      " 19 1.0 256 has 8 experiments\n",
      " 20 1.0 256 has 8 experiments\n"
     ]
    }
   ],
   "source": [
    "df_best_runs = []\n",
    "for trace_num in traces:\n",
    "    for num_deals_error_stddev in stddevs:\n",
    "        for num_considered_Dbs in num_Dbs:\n",
    "            df_trace = df_all[\n",
    "                (df_all['trace_num'] == trace_num) &\n",
    "                (df_all['num_deals_error_stddev'] == num_deals_error_stddev) &\n",
    "                (df_all['num_considered_Dbs'] == num_considered_Dbs)\n",
    "            ]\n",
    "            if len(df_trace) != 10:\n",
    "                print(f\" {trace_num} {num_deals_error_stddev} {num_considered_Dbs} has \"\n",
    "                     f\"{len(df_trace)} experiments\")\n",
    "            df_best_run = df_trace[\n",
    "                df_trace['metrics.total_loss'] == df_trace['metrics.total_loss'].min()\n",
    "            ]\n",
    "            assert len(df_best_run) == 1\n",
    "            df_best_runs.append(df_best_run)\n",
    "df_best_runs = pd.concat(df_best_runs)"
   ]
  },
  {
   "cell_type": "code",
   "execution_count": 9,
   "metadata": {},
   "outputs": [],
   "source": [
    "df_best_runs['metrics.pearson_MP'] = (\n",
    "    df_best_runs['metrics.pearson_M'] + df_best_runs['metrics.pearson_P']) / 2\n",
    "\n",
    "df_best_runs['metrics.r2_score_MP'] = (\n",
    "    df_best_runs['metrics.r2_score_M'] + df_best_runs['metrics.r2_score_P']) / 2"
   ]
  },
  {
   "cell_type": "code",
   "execution_count": 10,
   "metadata": {},
   "outputs": [],
   "source": [
    "# plt.rcParams.update({'font.size': 20})\n",
    "\n",
    "# metric = 'metrics.pearson_M'\n",
    "\n",
    "# validation_traces = list(range(1, 11))\n",
    "\n",
    "# results = np.full((len(num_Dbs), len(stddevs)), np.nan)\n",
    "\n",
    "# for j, num_deals_error_stddev in enumerate(stddevs):\n",
    "#     for i, num_Db in enumerate(num_Dbs):\n",
    "#         results[i, j] = df_best_runs[\n",
    "#             (df_best_runs['num_deals_error_stddev'] == num_deals_error_stddev) &\n",
    "#             (df_best_runs['num_considered_Dbs'] == num_Db) &\n",
    "#             (df_best_runs['trace_num'].isin(validation_traces))\n",
    "#         ][metric].mean()\n",
    "\n",
    "# fig, ax = plt.subplots()\n",
    "# # plt.title(metric.replace('metrics.', ''))\n",
    "# vmin = 0. # np.floor(np.nanmin(results) * 10) / 10 - 0.1\n",
    "# vmax = 0.8 # np.ceil(np.nanmax(results) * 10) / 10\n",
    "# ax.matshow(results, cmap='Blues', vmin=vmin, vmax=vmax)\n",
    "# for (i, j), z in np.ndenumerate(results):\n",
    "#     z = np.floor(z * 100) / 100\n",
    "#     ax.text(j, i, '{:0.2f}'.format(z), ha='center', va='center', color='w')\n",
    "# plt.grid()\n",
    "# plt.xticks(np.arange(len(stddevs)), stddevs,fontsize=18)\n",
    "# plt.xlabel('$\\sigma_D$',fontsize=20)\n",
    "# plt.yticks(np.arange(len(num_Dbs)), num_Dbs,fontsize=18)\n",
    "# plt.ylabel('Num. of $D^B$ samples',fontsize=20)\n",
    "# # plt.gca().xaxis.set_label_position('top')\n",
    "# ax.xaxis.set_ticks_position('bottom')\n",
    "# plt.title(r'$\\rho(M, \\hat{M})$' if metric == 'metrics.pearson_M' else metric,fontsize=20)\n",
    "\n",
    "# for ext in (\"pdf\", \"png\"):\n",
    "#     plt.savefig(f\"../paper/plots/hyperparam-{metric.split('.')[1]}.{ext}\",\n",
    "#                         bbox_inches='tight', dpi=200)\n",
    "# plt.show()"
   ]
  },
  {
   "cell_type": "code",
   "execution_count": 11,
   "metadata": {},
   "outputs": [],
   "source": [
    "best_num_deals_error_stddev = 1.0\n",
    "best_num_considered_Dbs = 256"
   ]
  },
  {
   "cell_type": "code",
   "execution_count": 12,
   "metadata": {},
   "outputs": [
    {
     "name": "stdout",
     "output_type": "stream",
     "text": [
      "metrics.explained_variance_score_Db     : 0.7427\n",
      "metrics.explained_variance_score_Db_m1  : 0.6664\n",
      "metrics.explained_variance_score_M      : 0.2829\n",
      "metrics.explained_variance_score_M0     : 0.2633\n",
      "metrics.explained_variance_score_Nd     : 0.7360\n",
      "metrics.explained_variance_score_P      : 0.9722\n",
      "metrics.explained_variance_score_avg_M  : 0.2605\n",
      "metrics.explained_variance_score_avg_M0 : 0.2346\n",
      "metrics.final_est_num_agents            : 5000.0000\n",
      "metrics.final_num_agents                : 5000.0000\n",
      "metrics.max_error_Db                    : 33.2359\n",
      "metrics.max_error_Db_m1                 : 48.3376\n",
      "metrics.max_error_M                     : 577.8966\n",
      "metrics.max_error_M0                    : 577.8966\n",
      "metrics.max_error_Nd                    : 20.5559\n",
      "metrics.max_error_P                     : 4.4891\n",
      "metrics.max_error_avg_M                 : 589.6049\n",
      "metrics.max_error_avg_M0                : 589.4629\n",
      "metrics.mean_absolute_error_Db          : 5.3246\n",
      "metrics.mean_absolute_error_Db_m1       : 6.5311\n",
      "metrics.mean_absolute_error_M           : 177.8740\n",
      "metrics.mean_absolute_error_M0          : 239.8829\n",
      "metrics.mean_absolute_error_Nd          : 4.9990\n",
      "metrics.mean_absolute_error_P           : 1.2380\n",
      "metrics.mean_absolute_error_avg_M       : 180.7351\n",
      "metrics.mean_absolute_error_avg_M0      : 244.2033\n",
      "metrics.mean_squared_error_Db           : 99.6593\n",
      "metrics.mean_squared_error_Db_m1        : 128.1673\n",
      "metrics.mean_squared_error_M            : 51209.9069\n",
      "metrics.mean_squared_error_M0           : 86308.7403\n",
      "metrics.mean_squared_error_Nd           : 45.5154\n",
      "metrics.mean_squared_error_P            : 2.4866\n",
      "metrics.mean_squared_error_avg_M        : 52960.3885\n",
      "metrics.mean_squared_error_avg_M0       : 89740.5857\n",
      "metrics.pearson_Db                      : 0.8617\n",
      "metrics.pearson_Db_m1                   : 0.8175\n",
      "metrics.pearson_M                       : 0.5612\n",
      "metrics.pearson_M0                      : 0.5260\n",
      "metrics.pearson_Nd                      : 0.8467\n",
      "metrics.pearson_P                       : 0.9869\n",
      "metrics.pearson_avg_M                   : 0.5417\n",
      "metrics.pearson_avg_M0                  : 0.4994\n",
      "metrics.phi_estimated                   : 1.0000\n",
      "metrics.r2_score_Db                     : 0.7427\n",
      "metrics.r2_score_Db_m1                  : 0.6643\n",
      "metrics.r2_score_M                      : 0.2829\n",
      "metrics.r2_score_M0                     : 0.2633\n",
      "metrics.r2_score_Nd                     : 0.7360\n",
      "metrics.r2_score_P                      : 0.9548\n",
      "metrics.r2_score_avg_M                  : 0.2605\n",
      "metrics.r2_score_avg_M0                 : 0.2346\n",
      "metrics.smape_Db                        : nan\n",
      "metrics.smape_Db_m1                     : nan\n",
      "metrics.smape_M                         : 0.6656\n",
      "metrics.smape_M0                        : 1.0092\n",
      "metrics.smape_Nd                        : 0.1123\n",
      "metrics.smape_P                         : 0.0369\n",
      "metrics.smape_avg_M                     : 0.6722\n",
      "metrics.smape_avg_M0                    : 1.0161\n",
      "metrics.total_loss                      : 2492.3574\n"
     ]
    }
   ],
   "source": [
    "test_traces = traces # sorted(set(df_best_runs['trace_num'].unique()) - set(validation_traces))\n",
    "assert test_traces == list(range(11, 21))\n",
    "df_plot = df_best_runs[\n",
    "    (df_best_runs['num_deals_error_stddev'] == best_num_deals_error_stddev) &\n",
    "    (df_best_runs['num_considered_Dbs'] == best_num_considered_Dbs) &\n",
    "    (df_best_runs['trace_num'].isin(test_traces))\n",
    "].copy()\n",
    "\n",
    "for f in sorted(df_all.columns):\n",
    "    if 'metrics.' in f:\n",
    "        print(f\"{f:40}: {df_plot[f].mean():.4f}\")"
   ]
  },
  {
   "cell_type": "code",
   "execution_count": 13,
   "metadata": {},
   "outputs": [],
   "source": [
    "df_plot['dist_to_median'] = (\n",
    "    df_plot['metrics.pearson_M'] - df_plot['metrics.pearson_M'].median()).abs()"
   ]
  },
  {
   "cell_type": "code",
   "execution_count": 14,
   "metadata": {},
   "outputs": [
    {
     "data": {
      "text/html": [
       "<div>\n",
       "<style scoped>\n",
       "    .dataframe tbody tr th:only-of-type {\n",
       "        vertical-align: middle;\n",
       "    }\n",
       "\n",
       "    .dataframe tbody tr th {\n",
       "        vertical-align: top;\n",
       "    }\n",
       "\n",
       "    .dataframe thead th {\n",
       "        text-align: right;\n",
       "    }\n",
       "</style>\n",
       "<table border=\"1\" class=\"dataframe\">\n",
       "  <thead>\n",
       "    <tr style=\"text-align: right;\">\n",
       "      <th></th>\n",
       "      <th>run_id</th>\n",
       "      <th>trace_num</th>\n",
       "      <th>metrics.pearson_M</th>\n",
       "      <th>dist_to_median</th>\n",
       "    </tr>\n",
       "  </thead>\n",
       "  <tbody>\n",
       "    <tr>\n",
       "      <th>86</th>\n",
       "      <td>c70e839e9f124225910569fd91984f27</td>\n",
       "      <td>16</td>\n",
       "      <td>0.546428</td>\n",
       "      <td>0.029372</td>\n",
       "    </tr>\n",
       "    <tr>\n",
       "      <th>60</th>\n",
       "      <td>9f9ce588b0a444ec9f13c74b10faefe8</td>\n",
       "      <td>20</td>\n",
       "      <td>0.487684</td>\n",
       "      <td>0.029372</td>\n",
       "    </tr>\n",
       "    <tr>\n",
       "      <th>54</th>\n",
       "      <td>1bb58dfadba7462fa3df5d95c66d4ec9</td>\n",
       "      <td>15</td>\n",
       "      <td>0.479444</td>\n",
       "      <td>0.037612</td>\n",
       "    </tr>\n",
       "    <tr>\n",
       "      <th>57</th>\n",
       "      <td>88cd56216aa34c0089c0aa68d7e39a96</td>\n",
       "      <td>12</td>\n",
       "      <td>0.430069</td>\n",
       "      <td>0.086987</td>\n",
       "    </tr>\n",
       "    <tr>\n",
       "      <th>52</th>\n",
       "      <td>9c0b7116da774426b4e00d5bf8d897cf</td>\n",
       "      <td>17</td>\n",
       "      <td>0.632932</td>\n",
       "      <td>0.115876</td>\n",
       "    </tr>\n",
       "    <tr>\n",
       "      <th>88</th>\n",
       "      <td>56eacfdd2c9f4d6ab544fb81063b4f8e</td>\n",
       "      <td>14</td>\n",
       "      <td>0.398635</td>\n",
       "      <td>0.118421</td>\n",
       "    </tr>\n",
       "    <tr>\n",
       "      <th>51</th>\n",
       "      <td>27928f6df6db40baa1f923f09cf0d0e4</td>\n",
       "      <td>18</td>\n",
       "      <td>0.721024</td>\n",
       "      <td>0.203968</td>\n",
       "    </tr>\n",
       "    <tr>\n",
       "      <th>3</th>\n",
       "      <td>3b81e577424e4b69ac4b26eda1fc3d4a</td>\n",
       "      <td>11</td>\n",
       "      <td>0.302964</td>\n",
       "      <td>0.214092</td>\n",
       "    </tr>\n",
       "    <tr>\n",
       "      <th>56</th>\n",
       "      <td>562eac25520b4140832de9522b391bf9</td>\n",
       "      <td>13</td>\n",
       "      <td>0.737249</td>\n",
       "      <td>0.220193</td>\n",
       "    </tr>\n",
       "    <tr>\n",
       "      <th>61</th>\n",
       "      <td>2691fe570cc9453ca055072ec0c30e8c</td>\n",
       "      <td>19</td>\n",
       "      <td>0.875822</td>\n",
       "      <td>0.358766</td>\n",
       "    </tr>\n",
       "  </tbody>\n",
       "</table>\n",
       "</div>"
      ],
      "text/plain": [
       "                              run_id  trace_num  metrics.pearson_M  \\\n",
       "86  c70e839e9f124225910569fd91984f27         16           0.546428   \n",
       "60  9f9ce588b0a444ec9f13c74b10faefe8         20           0.487684   \n",
       "54  1bb58dfadba7462fa3df5d95c66d4ec9         15           0.479444   \n",
       "57  88cd56216aa34c0089c0aa68d7e39a96         12           0.430069   \n",
       "52  9c0b7116da774426b4e00d5bf8d897cf         17           0.632932   \n",
       "88  56eacfdd2c9f4d6ab544fb81063b4f8e         14           0.398635   \n",
       "51  27928f6df6db40baa1f923f09cf0d0e4         18           0.721024   \n",
       "3   3b81e577424e4b69ac4b26eda1fc3d4a         11           0.302964   \n",
       "56  562eac25520b4140832de9522b391bf9         13           0.737249   \n",
       "61  2691fe570cc9453ca055072ec0c30e8c         19           0.875822   \n",
       "\n",
       "    dist_to_median  \n",
       "86        0.029372  \n",
       "60        0.029372  \n",
       "54        0.037612  \n",
       "57        0.086987  \n",
       "52        0.115876  \n",
       "88        0.118421  \n",
       "51        0.203968  \n",
       "3         0.214092  \n",
       "56        0.220193  \n",
       "61        0.358766  "
      ]
     },
     "execution_count": 14,
     "metadata": {},
     "output_type": "execute_result"
    }
   ],
   "source": [
    "df_plot[['run_id', 'trace_num', 'metrics.pearson_M', 'dist_to_median']\n",
    "       ].sort_values('dist_to_median')"
   ]
  },
  {
   "cell_type": "code",
   "execution_count": 15,
   "metadata": {},
   "outputs": [],
   "source": [
    "# K = 3\n",
    "# L = 5\n",
    "# T = 20\n",
    "\n",
    "# pearson_Dbs = []\n",
    "\n",
    "# assert sorted(df_plot['trace_num']) == test_traces\n",
    "# for trace_num in df_plot['trace_num']:\n",
    "#     est_path = (\"../data/original-abm-experiments/best_estimates/\"\n",
    "#                 f\"trace_{trace_num}_estimate.pickle\")\n",
    "#     with open(est_path, 'rb') as f:\n",
    "#         est = pickle.load(f)\n",
    "#     real_Db = np.genfromtxt(f\"../data/old_abm/traces/buyers{trace_num}.tsv\")\n",
    "    \n",
    "#     assert np.all(real_Db[0] == 0)\n",
    "#     real_Db = real_Db[1:T]\n",
    "#     assert real_Db.shape == (T - 1, L * K)\n",
    "#     real_Db = real_Db.reshape(T - 1, L, K)\n",
    "#     assert est.Db.shape == (T - 1, L, K)\n",
    "\n",
    "#     pearson_Db = scipy.stats.pearsonr(real_Db.flatten(), est.Db.flatten())[0]\n",
    "#     pearson_Dbs.append(pearson_Db)\n",
    "    \n",
    "# df_plot['metrics.pearson_Db'] = pearson_Dbs"
   ]
  },
  {
   "cell_type": "code",
   "execution_count": 16,
   "metadata": {},
   "outputs": [],
   "source": [
    "df_plot[\"Model\"] = \"original\""
   ]
  },
  {
   "cell_type": "code",
   "execution_count": 17,
   "metadata": {},
   "outputs": [],
   "source": [
    "df_plot.to_csv(\"../data/main-figure-experiments.csv\",\n",
    "               index=False)"
   ]
  },
  {
   "cell_type": "code",
   "execution_count": null,
   "metadata": {},
   "outputs": [],
   "source": []
  }
 ],
 "metadata": {
  "kernelspec": {
   "display_name": "learnable-econ-abm",
   "language": "python",
   "name": "learnable-econ-abm"
  },
  "language_info": {
   "codemirror_mode": {
    "name": "ipython",
    "version": 3
   },
   "file_extension": ".py",
   "mimetype": "text/x-python",
   "name": "python",
   "nbconvert_exporter": "python",
   "pygments_lexer": "ipython3",
   "version": "3.7.7"
  }
 },
 "nbformat": 4,
 "nbformat_minor": 4
}
