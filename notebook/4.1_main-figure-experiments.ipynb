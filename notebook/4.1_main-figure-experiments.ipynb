{
 "cells": [
  {
   "cell_type": "code",
   "execution_count": 2,
   "metadata": {},
   "outputs": [
    {
     "data": {
      "text/html": [
       "<h3>Runned on Corrado-Centai-Macbook.local</h3><h4>Last commit: b7bc819 Update experiments\n",
       "</h4><h4>Conda env: learnable-econ-abm</h4>"
      ],
      "text/plain": [
       "<IPython.core.display.HTML object>"
      ]
     },
     "metadata": {},
     "output_type": "display_data"
    }
   ],
   "source": [
    "from IPython.display import display, HTML\n",
    "# from ipywidgets import interactive\n",
    "import matplotlib.pyplot as plt\n",
    "import matplotlib.ticker as ticker\n",
    "import numpy as np\n",
    "import pandas as pd\n",
    "import scipy.stats\n",
    "import seaborn as sns\n",
    "import sklearn.metrics\n",
    "from tqdm.notebook import tqdm\n",
    "\n",
    "from collections import namedtuple, defaultdict, Counter\n",
    "from glob import glob\n",
    "import itertools\n",
    "import os\n",
    "import pickle\n",
    "import re\n",
    "import socket\n",
    "import subprocess\n",
    "import sys\n",
    "\n",
    "plt.style.use('seaborn')\n",
    "# tf.compat.v1.logging.set_verbosity(tf.compat.v1.logging.ERROR)\n",
    "np.set_printoptions(suppress=True, precision=2, threshold=20)\n",
    "sys.path += ['../src/']\n",
    "\n",
    "display(HTML(\"<h3>Runned on %s</h3><h4>Last commit: %s</h4><h4>Conda env: %s</h4>\" % (\n",
    "    socket.gethostname(),\n",
    "    subprocess.run([\"git\",\"log\", \"-1\", \"--pretty=%h %s\"],\n",
    "        check=False, capture_output=True).stdout.decode() or 'none.',\n",
    "    (re.findall(\"\"\".*envs[\\\\\\/](.*?)[\\\\\\/]\"\"\", sys.executable) or [sys.executable])[0]\n",
    ")))\n"
   ]
  },
  {
   "cell_type": "code",
   "execution_count": 3,
   "metadata": {},
   "outputs": [],
   "source": [
    "df_experiments = pd.read_csv(\"../data/main-figure-experiments.csv\")"
   ]
  },
  {
   "cell_type": "code",
   "execution_count": 4,
   "metadata": {},
   "outputs": [],
   "source": [
    "metrics = [\n",
    "    \"metrics.r2_score_M\",\n",
    "    \"metrics.r2_score_Nd\",\n",
    "    \"metrics.r2_score_P\",\n",
    "    \"metrics.r2_score_Db\",\n",
    "]"
   ]
  },
  {
   "cell_type": "code",
   "execution_count": 5,
   "metadata": {},
   "outputs": [
    {
     "name": "stderr",
     "output_type": "stream",
     "text": [
      "/Users/corrado/.conda/envs/learnable-econ-abm/lib/python3.7/site-packages/ipykernel_launcher.py:5: FutureWarning: The default value of regex will change from True to False in a future version.\n",
      "  \"\"\"\n",
      "/Users/corrado/.conda/envs/learnable-econ-abm/lib/python3.7/site-packages/ipykernel_launcher.py:6: FutureWarning: The default value of regex will change from True to False in a future version.\n",
      "  \n"
     ]
    },
    {
     "data": {
      "text/html": [
       "<div>\n",
       "<style scoped>\n",
       "    .dataframe tbody tr th:only-of-type {\n",
       "        vertical-align: middle;\n",
       "    }\n",
       "\n",
       "    .dataframe tbody tr th {\n",
       "        vertical-align: top;\n",
       "    }\n",
       "\n",
       "    .dataframe thead th {\n",
       "        text-align: right;\n",
       "    }\n",
       "</style>\n",
       "<table border=\"1\" class=\"dataframe\">\n",
       "  <thead>\n",
       "    <tr style=\"text-align: right;\">\n",
       "      <th></th>\n",
       "      <th>Model</th>\n",
       "      <th>variable</th>\n",
       "      <th>value</th>\n",
       "    </tr>\n",
       "  </thead>\n",
       "  <tbody>\n",
       "    <tr>\n",
       "      <th>0</th>\n",
       "      <td>original</td>\n",
       "      <td>$M$</td>\n",
       "      <td>-0.130794</td>\n",
       "    </tr>\n",
       "    <tr>\n",
       "      <th>1</th>\n",
       "      <td>original</td>\n",
       "      <td>$M$</td>\n",
       "      <td>0.169643</td>\n",
       "    </tr>\n",
       "    <tr>\n",
       "      <th>2</th>\n",
       "      <td>original</td>\n",
       "      <td>$M$</td>\n",
       "      <td>0.445487</td>\n",
       "    </tr>\n",
       "    <tr>\n",
       "      <th>3</th>\n",
       "      <td>original</td>\n",
       "      <td>$M$</td>\n",
       "      <td>-0.005293</td>\n",
       "    </tr>\n",
       "    <tr>\n",
       "      <th>4</th>\n",
       "      <td>original</td>\n",
       "      <td>$M$</td>\n",
       "      <td>0.222546</td>\n",
       "    </tr>\n",
       "    <tr>\n",
       "      <th>...</th>\n",
       "      <td>...</td>\n",
       "      <td>...</td>\n",
       "      <td>...</td>\n",
       "    </tr>\n",
       "    <tr>\n",
       "      <th>71</th>\n",
       "      <td>learnable</td>\n",
       "      <td>$D^B$</td>\n",
       "      <td>0.760010</td>\n",
       "    </tr>\n",
       "    <tr>\n",
       "      <th>72</th>\n",
       "      <td>learnable</td>\n",
       "      <td>$D^B$</td>\n",
       "      <td>0.754456</td>\n",
       "    </tr>\n",
       "    <tr>\n",
       "      <th>73</th>\n",
       "      <td>learnable</td>\n",
       "      <td>$D^B$</td>\n",
       "      <td>0.782150</td>\n",
       "    </tr>\n",
       "    <tr>\n",
       "      <th>74</th>\n",
       "      <td>learnable</td>\n",
       "      <td>$D^B$</td>\n",
       "      <td>0.779995</td>\n",
       "    </tr>\n",
       "    <tr>\n",
       "      <th>75</th>\n",
       "      <td>learnable</td>\n",
       "      <td>$D^B$</td>\n",
       "      <td>0.782720</td>\n",
       "    </tr>\n",
       "  </tbody>\n",
       "</table>\n",
       "<p>76 rows × 3 columns</p>\n",
       "</div>"
      ],
      "text/plain": [
       "        Model variable     value\n",
       "0    original      $M$ -0.130794\n",
       "1    original      $M$  0.169643\n",
       "2    original      $M$  0.445487\n",
       "3    original      $M$ -0.005293\n",
       "4    original      $M$  0.222546\n",
       "..        ...      ...       ...\n",
       "71  learnable    $D^B$  0.760010\n",
       "72  learnable    $D^B$  0.754456\n",
       "73  learnable    $D^B$  0.782150\n",
       "74  learnable    $D^B$  0.779995\n",
       "75  learnable    $D^B$  0.782720\n",
       "\n",
       "[76 rows x 3 columns]"
      ]
     },
     "execution_count": 5,
     "metadata": {},
     "output_type": "execute_result"
    }
   ],
   "source": [
    "df = df_experiments[[\"Model\"] + metrics].melt(id_vars=['Model'], value_vars=metrics)\n",
    "df.variable = df.variable.astype('category')\n",
    "df.Model = df.Model.astype('category')\n",
    "df.variable = (df.variable\n",
    "               .str.replace(\"metrics.pearson_\", \"\")\n",
    "               .str.replace(\"metrics.r2_score_\", \"\")\n",
    "               .apply(lambda x: \"D^B\" if x == \"Db\" else \"D\" if x == \"Nd\" else x)\n",
    "               .apply(lambda x: '$' + x + '$')\n",
    "              )\n",
    "df"
   ]
  },
  {
   "cell_type": "code",
   "execution_count": 6,
   "metadata": {},
   "outputs": [
    {
     "data": {
      "text/plain": [
       "array(['$M$', '$D$', '$P$', '$D^B$'], dtype=object)"
      ]
     },
     "execution_count": 6,
     "metadata": {},
     "output_type": "execute_result"
    }
   ],
   "source": [
    "df.variable.unique()"
   ]
  },
  {
   "cell_type": "code",
   "execution_count": 7,
   "metadata": {},
   "outputs": [
    {
     "data": {
      "text/html": [
       "<svg  width=\"550\" height=\"55\"><rect x=\"0\" y=\"0\" width=\"55\" height=\"55\" style=\"fill:#4c72b0;stroke-width:2;stroke:rgb(255,255,255)\"/><rect x=\"55\" y=\"0\" width=\"55\" height=\"55\" style=\"fill:#dd8452;stroke-width:2;stroke:rgb(255,255,255)\"/><rect x=\"110\" y=\"0\" width=\"55\" height=\"55\" style=\"fill:#55a868;stroke-width:2;stroke:rgb(255,255,255)\"/><rect x=\"165\" y=\"0\" width=\"55\" height=\"55\" style=\"fill:#c44e52;stroke-width:2;stroke:rgb(255,255,255)\"/><rect x=\"220\" y=\"0\" width=\"55\" height=\"55\" style=\"fill:#8172b3;stroke-width:2;stroke:rgb(255,255,255)\"/><rect x=\"275\" y=\"0\" width=\"55\" height=\"55\" style=\"fill:#937860;stroke-width:2;stroke:rgb(255,255,255)\"/><rect x=\"330\" y=\"0\" width=\"55\" height=\"55\" style=\"fill:#da8bc3;stroke-width:2;stroke:rgb(255,255,255)\"/><rect x=\"385\" y=\"0\" width=\"55\" height=\"55\" style=\"fill:#8c8c8c;stroke-width:2;stroke:rgb(255,255,255)\"/><rect x=\"440\" y=\"0\" width=\"55\" height=\"55\" style=\"fill:#ccb974;stroke-width:2;stroke:rgb(255,255,255)\"/><rect x=\"495\" y=\"0\" width=\"55\" height=\"55\" style=\"fill:#64b5cd;stroke-width:2;stroke:rgb(255,255,255)\"/></svg>"
      ],
      "text/plain": [
       "[(0.2980392156862745, 0.4470588235294118, 0.6901960784313725),\n",
       " (0.8666666666666667, 0.5176470588235295, 0.3215686274509804),\n",
       " (0.3333333333333333, 0.6588235294117647, 0.40784313725490196),\n",
       " (0.7686274509803922, 0.3058823529411765, 0.3215686274509804),\n",
       " (0.5058823529411764, 0.4470588235294118, 0.7019607843137254),\n",
       " (0.5764705882352941, 0.47058823529411764, 0.3764705882352941),\n",
       " (0.8549019607843137, 0.5450980392156862, 0.7647058823529411),\n",
       " (0.5490196078431373, 0.5490196078431373, 0.5490196078431373),\n",
       " (0.8, 0.7254901960784313, 0.4549019607843137),\n",
       " (0.39215686274509803, 0.7098039215686275, 0.803921568627451)]"
      ]
     },
     "metadata": {},
     "output_type": "display_data"
    }
   ],
   "source": [
    "def define_palette():\n",
    "    (blue, orange, green, red, purple, \n",
    "     brown, pink, gray, gold, azure) = sns.color_palette('deep')\n",
    "    return {\n",
    "        '$M$': blue,\n",
    "        '$D^B$': red,\n",
    "        '$D$': green,\n",
    "        '$P$': brown,\n",
    "    }\n",
    "display(sns.color_palette('deep'))\n",
    "palette = define_palette()"
   ]
  },
  {
   "cell_type": "code",
   "execution_count": 8,
   "metadata": {},
   "outputs": [],
   "source": [
    "! mkdir -p ../paper/fig"
   ]
  },
  {
   "cell_type": "code",
   "execution_count": 11,
   "metadata": {},
   "outputs": [
    {
     "data": {
      "image/png": "[encoded data removed]",
      "text/plain": [
       "<Figure size 504x180 with 1 Axes>"
      ]
     },
     "metadata": {},
     "output_type": "display_data"
    },
    {
     "data": {
      "image/png": "[encoded data removed]",
      "text/plain": [
       "<Figure size 504x180 with 1 Axes>"
      ]
     },
     "metadata": {},
     "output_type": "display_data"
    }
   ],
   "source": [
    "order = ['$M$', '$D^B$', '$D$', '$P$']\n",
    "for model in df.Model.unique():\n",
    "    sns.set_style(\"whitegrid\")\n",
    "    plt.figure(figsize=(7,2.5))\n",
    "    \n",
    "    ax = sns.boxplot(x=\"value\", y='variable',\n",
    "                     data=df[df.Model == model],\n",
    "                     whis=[0, 100],\n",
    "                     width=.6,\n",
    "                     order=order,\n",
    "                     palette=palette,\n",
    "                    )\n",
    "    sns.stripplot(x=\"value\", y='variable',\n",
    "                  data=df[df.Model == model],\n",
    "                  size=10, jitter=0.06,\n",
    "                  edgecolor=\"black\",\n",
    "                  linewidth=0.5,\n",
    "                  order=order,\n",
    "                  palette=palette,\n",
    "                 )\n",
    "\n",
    "    # metric_label = r'$\\rho(%s, \\hat{%s})$' % (label, label)\n",
    "#     plt.xlabel(\"Correlation with ground truth\")\n",
    "    plt.xlabel(\"Determination of ground truth ($R^2$)\")\n",
    "    plt.xlim((-.2, 1.05))\n",
    "    plt.ylabel(\"Observable        Latent\")\n",
    "    ax.yaxis.set_label_coords(-0.07, 0.47)\n",
    "    plt.title(model.title() + \" ABM as ground truth\")\n",
    "    plt.axhline(y=1.5, color='k', linestyle='-', alpha=0.1)\n",
    "\n",
    "    for ext in ('pdf', 'png'):\n",
    "        plt.savefig(f\"../paper/fig/estimate-{model}.{ext}\",\n",
    "                        bbox_inches='tight', dpi=200)\n",
    "    plt.show()"
   ]
  },
  {
   "cell_type": "code",
   "execution_count": null,
   "metadata": {},
   "outputs": [],
   "source": []
  }
 ],
 "metadata": {
  "kernelspec": {
   "display_name": "learnable-econ-abm",
   "language": "python",
   "name": "learnable-econ-abm"
  },
  "language_info": {
   "codemirror_mode": {
    "name": "ipython",
    "version": 3
   },
   "file_extension": ".py",
   "mimetype": "text/x-python",
   "name": "python",
   "nbconvert_exporter": "python",
   "pygments_lexer": "ipython3",
   "version": "3.7.7"
  }
 },
 "nbformat": 4,
 "nbformat_minor": 4
}
