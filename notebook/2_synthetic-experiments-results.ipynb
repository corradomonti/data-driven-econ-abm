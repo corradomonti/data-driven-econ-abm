{
 "cells": [
  {
   "cell_type": "code",
   "execution_count": null,
   "metadata": {},
   "outputs": [],
   "source": [
    "%matplotlib inline\n",
    "\n",
    "from IPython.display import display, HTML\n",
    "from ipywidgets import interactive\n",
    "import matplotlib.pyplot as plt\n",
    "# import networkx as nx\n",
    "import numpy as np\n",
    "import pandas as pd\n",
    "import scipy.stats\n",
    "import seaborn as sns\n",
    "import sklearn.metrics\n",
    "# import tensorflow as tf\n",
    "# import tensorflow_probability as tfp\n",
    "from tqdm.notebook import tqdm\n",
    "\n",
    "from collections import namedtuple, defaultdict, Counter\n",
    "import functools\n",
    "from glob import glob\n",
    "import itertools\n",
    "import os\n",
    "import pickle\n",
    "import re\n",
    "import socket\n",
    "import subprocess\n",
    "import sys\n",
    "from time import sleep\n",
    "\n",
    "plt.style.use('seaborn')\n",
    "# tf.compat.v1.logging.set_verbosity(tf.compat.v1.logging.ERROR)\n",
    "np.set_printoptions(suppress=True, precision=2, threshold=20)\n",
    "sys.path += ['../src/']\n",
    "\n",
    "display(HTML(\"<h3>Runned on %s</h3><h4>Last commit: %s</h4><h4>Conda env: %s</h4>\" % (\n",
    "    socket.gethostname(),\n",
    "    subprocess.run([\"git\",\"log\", \"-1\", \"--pretty=%h %s\"],\n",
    "        check=False, capture_output=True).stdout.decode() or 'none.',\n",
    "    (re.findall(\"\"\".*envs[\\\\\\/](.*?)[\\\\\\/]\"\"\", sys.executable) or [sys.executable])[0]\n",
    ")))\n"
   ]
  },
  {
   "cell_type": "code",
   "execution_count": 2,
   "metadata": {},
   "outputs": [
    {
     "name": "stdout",
     "output_type": "stream",
     "text": [
      "{'2a4ecb25997a2822cc9b10841572ca436a908aa3'}\n",
      "9\n"
     ]
    }
   ],
   "source": [
    "df_all = pd.read_csv(\"../data/labm-experiments/main-experiments-learnable-abm.csv\")\n",
    "print(set(df_all[\"tags.mlflow.source.git.commit\"].values))\n",
    "df_all = df_all[df_all.status == \"FINISHED\"]\n",
    "if 'tags.crashed' in df_all.columns:\n",
    "    df_all = df_all[df_all['tags.crashed'].isna()]\n",
    "params = [c[7:] for c in df_all.columns if c.startswith(\"params.\") ]\n",
    "df_all.columns = [c[7:] if c.startswith(\"params.\") else c for c in df_all.columns]\n",
    "print(len(df_all))"
   ]
  },
  {
   "cell_type": "code",
   "execution_count": 3,
   "metadata": {},
   "outputs": [],
   "source": [
    "deltas = (1/16., )\n",
    "stddevs = [1.]\n",
    "num_Dbs = [256]"
   ]
  },
  {
   "cell_type": "code",
   "execution_count": 4,
   "metadata": {},
   "outputs": [
    {
     "data": {
      "text/plain": [
       "9"
      ]
     },
     "execution_count": 4,
     "metadata": {},
     "output_type": "execute_result"
    }
   ],
   "source": [
    "df_all = df_all[df_all.learning_rate == 0.001].copy()\n",
    "df_all = df_all[df_all.delta.isin(deltas)].copy()\n",
    "df_all = df_all[df_all.num_deals_error_stddev.isin(stddevs)]\n",
    "df_all = df_all[df_all.num_considered_Dbs.isin(num_Dbs)]\n",
    "len(df_all)"
   ]
  },
  {
   "cell_type": "code",
   "execution_count": 5,
   "metadata": {},
   "outputs": [],
   "source": [
    "validation_traces = []\n",
    "# validation_traces = sorted(list(df_all.seed.unique()))[:10]\n",
    "# validation_traces"
   ]
  },
  {
   "cell_type": "code",
   "execution_count": 6,
   "metadata": {},
   "outputs": [],
   "source": [
    "for num_deals_error_stddev in stddevs:\n",
    "    for num_considered_Dbs in num_Dbs:\n",
    "            for seed in validation_traces:\n",
    "                exp_string = f\"{num_considered_Dbs}, {num_deals_error_stddev}, seed {seed}\"\n",
    "                df_experiment = df_all[\n",
    "                            (df_all['num_deals_error_stddev'] == num_deals_error_stddev) &\n",
    "                            (df_all['num_considered_Dbs'] == num_considered_Dbs) &\n",
    "                            (df_all['seed'] == seed)\n",
    "                      ]\n",
    "                num_experiments = len(df_experiment)\n",
    "                if num_experiments == 0:\n",
    "                    print(\"MISSING:\", exp_string)\n",
    "                elif num_experiments > 1:\n",
    "                    print(\"Duplicate:\", exp_string)\n",
    "                    print(set(df_experiment[\"tags.mlflow.source.git.commit\"].values))"
   ]
  },
  {
   "cell_type": "code",
   "execution_count": 7,
   "metadata": {},
   "outputs": [
    {
     "data": {
      "text/html": [
       "<h1>Parameters Not Unique</h1>"
      ],
      "text/plain": [
       "<IPython.core.display.HTML object>"
      ]
     },
     "metadata": {},
     "output_type": "display_data"
    },
    {
     "data": {
      "text/html": [
       "<div>\n",
       "<style scoped>\n",
       "    .dataframe tbody tr th:only-of-type {\n",
       "        vertical-align: middle;\n",
       "    }\n",
       "\n",
       "    .dataframe tbody tr th {\n",
       "        vertical-align: top;\n",
       "    }\n",
       "\n",
       "    .dataframe thead th {\n",
       "        text-align: right;\n",
       "    }\n",
       "</style>\n",
       "<table border=\"1\" class=\"dataframe\">\n",
       "  <thead>\n",
       "    <tr style=\"text-align: right;\">\n",
       "      <th></th>\n",
       "      <th>0</th>\n",
       "      <th>1</th>\n",
       "      <th>2</th>\n",
       "      <th>3</th>\n",
       "      <th>4</th>\n",
       "      <th>5</th>\n",
       "      <th>6</th>\n",
       "      <th>7</th>\n",
       "      <th>8</th>\n",
       "    </tr>\n",
       "  </thead>\n",
       "  <tbody>\n",
       "    <tr>\n",
       "      <th>seed</th>\n",
       "      <td>53</td>\n",
       "      <td>54</td>\n",
       "      <td>55</td>\n",
       "      <td>56</td>\n",
       "      <td>57</td>\n",
       "      <td>58</td>\n",
       "      <td>59</td>\n",
       "      <td>60</td>\n",
       "      <td>61</td>\n",
       "    </tr>\n",
       "  </tbody>\n",
       "</table>\n",
       "</div>"
      ],
      "text/plain": [
       "       0   1   2   3   4   5   6   7   8\n",
       "seed  53  54  55  56  57  58  59  60  61"
      ]
     },
     "metadata": {},
     "output_type": "display_data"
    },
    {
     "data": {
      "text/html": [
       "<h1>Unique Parameters</h1>"
      ],
      "text/plain": [
       "<IPython.core.display.HTML object>"
      ]
     },
     "metadata": {},
     "output_type": "display_data"
    },
    {
     "data": {
      "text/html": [
       "<div>\n",
       "<style scoped>\n",
       "    .dataframe tbody tr th:only-of-type {\n",
       "        vertical-align: middle;\n",
       "    }\n",
       "\n",
       "    .dataframe tbody tr th {\n",
       "        vertical-align: top;\n",
       "    }\n",
       "\n",
       "    .dataframe thead th {\n",
       "        text-align: right;\n",
       "    }\n",
       "</style>\n",
       "<table border=\"1\" class=\"dataframe\">\n",
       "  <thead>\n",
       "    <tr style=\"text-align: right;\">\n",
       "      <th></th>\n",
       "      <th>Value</th>\n",
       "    </tr>\n",
       "  </thead>\n",
       "  <tbody>\n",
       "    <tr>\n",
       "      <th>delta</th>\n",
       "      <td>0.0625</td>\n",
       "    </tr>\n",
       "    <tr>\n",
       "      <th>num_considered_Dbs</th>\n",
       "      <td>256</td>\n",
       "    </tr>\n",
       "    <tr>\n",
       "      <th>Gammak</th>\n",
       "      <td>[0.5 0.4 0.1]</td>\n",
       "    </tr>\n",
       "    <tr>\n",
       "      <th>learning_steps</th>\n",
       "      <td>4</td>\n",
       "    </tr>\n",
       "    <tr>\n",
       "      <th>N</th>\n",
       "      <td>1000</td>\n",
       "    </tr>\n",
       "    <tr>\n",
       "      <th>M0_initialization_variance</th>\n",
       "      <td>1</td>\n",
       "    </tr>\n",
       "    <tr>\n",
       "      <th>epochs</th>\n",
       "      <td>5</td>\n",
       "    </tr>\n",
       "    <tr>\n",
       "      <th>use_relative_error</th>\n",
       "      <td>False</td>\n",
       "    </tr>\n",
       "    <tr>\n",
       "      <th>threshold</th>\n",
       "      <td>0.05</td>\n",
       "    </tr>\n",
       "    <tr>\n",
       "      <th>price_error_stddev</th>\n",
       "      <td>1.0</td>\n",
       "    </tr>\n",
       "    <tr>\n",
       "      <th>num_restarts</th>\n",
       "      <td>10</td>\n",
       "    </tr>\n",
       "    <tr>\n",
       "      <th>burnin</th>\n",
       "      <td>0</td>\n",
       "    </tr>\n",
       "    <tr>\n",
       "      <th>Q</th>\n",
       "      <td>500</td>\n",
       "    </tr>\n",
       "    <tr>\n",
       "      <th>max_iteration</th>\n",
       "      <td>100</td>\n",
       "    </tr>\n",
       "    <tr>\n",
       "      <th>num_deals_error_stddev</th>\n",
       "      <td>1.0</td>\n",
       "    </tr>\n",
       "    <tr>\n",
       "      <th>learning_rate</th>\n",
       "      <td>0.001</td>\n",
       "    </tr>\n",
       "  </tbody>\n",
       "</table>\n",
       "</div>"
      ],
      "text/plain": [
       "                                    Value\n",
       "delta                              0.0625\n",
       "num_considered_Dbs                    256\n",
       "Gammak                      [0.5 0.4 0.1]\n",
       "learning_steps                          4\n",
       "N                                    1000\n",
       "M0_initialization_variance              1\n",
       "epochs                                  5\n",
       "use_relative_error                  False\n",
       "threshold                            0.05\n",
       "price_error_stddev                    1.0\n",
       "num_restarts                           10\n",
       "burnin                                  0\n",
       "Q                                     500\n",
       "max_iteration                         100\n",
       "num_deals_error_stddev                1.0\n",
       "learning_rate                       0.001"
      ]
     },
     "metadata": {},
     "output_type": "display_data"
    }
   ],
   "source": [
    "params_not_unique = dict()\n",
    "params_unique = dict()\n",
    "for f in params:\n",
    "    values = set(df_all[f])\n",
    "    if len(values) > 1:\n",
    "        params_not_unique[f] = values\n",
    "    else:\n",
    "        params_unique[f] = values\n",
    "\n",
    "display(HTML(\"<h1>Parameters Not Unique</h1>\"))\n",
    "display(pd.DataFrame(index=params_not_unique.keys(), data=params_not_unique.values()).fillna(''))\n",
    "\n",
    "display(HTML(\"<h1>Unique Parameters</h1>\"))\n",
    "display(pd.DataFrame(index=params_unique.keys(), data=params_unique.values(), columns=[\"Value\"]).fillna(''))"
   ]
  },
  {
   "cell_type": "code",
   "execution_count": 8,
   "metadata": {},
   "outputs": [
    {
     "name": "stdout",
     "output_type": "stream",
     "text": [
      "[10]\n"
     ]
    }
   ],
   "source": [
    "print(df_all.num_restarts.unique())\n",
    "assert df_all.num_restarts.min() > 1\n",
    "df_best_runs = df_all"
   ]
  },
  {
   "cell_type": "code",
   "execution_count": 9,
   "metadata": {},
   "outputs": [],
   "source": [
    "df_best_runs['metrics.pearson_MP'] = (\n",
    "    df_best_runs['metrics.pearson_M'] + df_best_runs['metrics.pearson_P']) / 2\n",
    "\n",
    "df_best_runs['metrics.r2_score_MP'] = (\n",
    "    df_best_runs['metrics.r2_score_M'] + df_best_runs['metrics.r2_score_P']) / 2"
   ]
  },
  {
   "cell_type": "code",
   "execution_count": 10,
   "metadata": {},
   "outputs": [],
   "source": [
    "# metric = 'metrics.pearson_M'\n",
    "\n",
    "# results = np.full((len(num_Dbs), len(stddevs)), np.nan)\n",
    "\n",
    "# for j, num_deals_error_stddev in enumerate(stddevs):\n",
    "#     for i, num_Db in enumerate(num_Dbs):\n",
    "#         results[i, j] = df_best_runs[\n",
    "#             (df_best_runs['num_deals_error_stddev'] == num_deals_error_stddev) &\n",
    "#             (df_best_runs['num_considered_Dbs'] == num_Db) &\n",
    "#             (df_best_runs['seed'].isin(validation_traces))\n",
    "#         ][metric].mean()\n",
    "\n",
    "# fig, ax = plt.subplots()\n",
    "# vmin = 0.\n",
    "# vmax = np.ceil(np.nanmax(results) * 10) / 10\n",
    "# ax.matshow(results, cmap='Blues', vmin=vmin, vmax=vmax)\n",
    "# for (i, j), z in np.ndenumerate(results):\n",
    "#     z = np.floor(z * 100) / 100\n",
    "#     ax.text(j, i, '{:0.2f}'.format(z), ha='center', va='center', color='w', fontsize=20)\n",
    "# plt.grid()\n",
    "# plt.xticks(np.arange(len(stddevs)), stddevs)\n",
    "# plt.xlabel('$\\epsilon_D$')\n",
    "# plt.yticks(np.arange(len(num_Dbs)), num_Dbs)\n",
    "# plt.ylabel('Num. of $D^B$ samples')\n",
    "# # plt.gca().xaxis.set_label_position('top')\n",
    "# ax.xaxis.set_ticks_position('bottom')\n",
    "# plt.title(r'$\\rho(M, \\hat{M})$' if metric == 'metrics.pearson_M' else metric)\n",
    "\n",
    "# for ext in (\"pdf\", \"png\"):\n",
    "#     plt.savefig(f\"../paper/plots/hyperparam-learnable-{metric.split('.')[1]}.{ext}\",\n",
    "#                         bbox_inches='tight', dpi=200)\n",
    "# plt.show()"
   ]
  },
  {
   "cell_type": "code",
   "execution_count": 11,
   "metadata": {},
   "outputs": [],
   "source": [
    "best_num_deals_error_stddev = 1.0\n",
    "best_num_considered_Dbs = 256"
   ]
  },
  {
   "cell_type": "code",
   "execution_count": 12,
   "metadata": {},
   "outputs": [
    {
     "name": "stdout",
     "output_type": "stream",
     "text": [
      "metrics.explained_variance_score_Db     : 0.7727\n",
      "metrics.explained_variance_score_M      : 0.5718\n",
      "metrics.explained_variance_score_M0     : 0.5222\n",
      "metrics.explained_variance_score_Nd     : 0.9988\n",
      "metrics.explained_variance_score_P      : 0.9485\n",
      "metrics.final_est_num_agents            : 4998.4444\n",
      "metrics.final_num_agents                : 4992.7778\n",
      "metrics.max_error_Db                    : 17.0527\n",
      "metrics.max_error_M                     : 504.1943\n",
      "metrics.max_error_M0                    : 504.1943\n",
      "metrics.max_error_Nd                    : 1.0277\n",
      "metrics.max_error_P                     : 1.3752\n",
      "metrics.mean_absolute_error_Db          : 4.9531\n",
      "metrics.mean_absolute_error_M           : 99.7290\n",
      "metrics.mean_absolute_error_M0          : 145.1152\n",
      "metrics.mean_absolute_error_Nd          : 0.0730\n",
      "metrics.mean_absolute_error_P           : 0.5945\n",
      "metrics.mean_squared_error_Db           : 43.6120\n",
      "metrics.mean_squared_error_M            : 20204.2336\n",
      "metrics.mean_squared_error_M0           : 43808.3656\n",
      "metrics.mean_squared_error_Nd           : 0.0436\n",
      "metrics.mean_squared_error_P            : 0.4136\n",
      "metrics.pearson_Db                      : 0.9227\n",
      "metrics.pearson_M                       : 0.7882\n",
      "metrics.pearson_M0                      : 0.7323\n",
      "metrics.pearson_MP                      : 0.8812\n",
      "metrics.pearson_Nd                      : 0.9995\n",
      "metrics.pearson_P                       : 0.9743\n",
      "metrics.phi_estimated                   : 1.0000\n",
      "metrics.r2_score_Db                     : 0.7727\n",
      "metrics.r2_score_M                      : 0.5718\n",
      "metrics.r2_score_M0                     : 0.5222\n",
      "metrics.r2_score_MP                     : 0.7398\n",
      "metrics.r2_score_Nd                     : 0.9988\n",
      "metrics.r2_score_P                      : 0.9078\n",
      "metrics.smape_Db                        : nan\n",
      "metrics.smape_M                         : 0.4201\n",
      "metrics.smape_M0                        : 0.6998\n",
      "metrics.smape_Nd                        : 0.0016\n",
      "metrics.smape_P                         : 0.0146\n",
      "metrics.total_loss                      : 253.6658\n"
     ]
    }
   ],
   "source": [
    "# test_traces = sorted(list(df_all.seed.unique()))[10:]\n",
    "test_traces = sorted(list(df_all.seed.unique()))\n",
    "assert not (set(test_traces) & set(validation_traces))\n",
    "df_plot = df_best_runs[\n",
    "    (df_best_runs['num_deals_error_stddev'] == best_num_deals_error_stddev) &\n",
    "    (df_best_runs['num_considered_Dbs'] == best_num_considered_Dbs) &\n",
    "    (df_best_runs['seed'].isin(test_traces))\n",
    "].copy()\n",
    "\n",
    "for f in sorted(df_all.columns):\n",
    "    if 'metrics.' in f:\n",
    "        print(f\"{f:40}: {df_plot[f].mean():.4f}\")"
   ]
  },
  {
   "cell_type": "code",
   "execution_count": 13,
   "metadata": {},
   "outputs": [],
   "source": [
    "df_plot['dist_to_median'] = (\n",
    "    df_plot['metrics.pearson_M'] - df_plot['metrics.pearson_M'].median()).abs()"
   ]
  },
  {
   "cell_type": "code",
   "execution_count": 14,
   "metadata": {},
   "outputs": [
    {
     "data": {
      "text/html": [
       "<div>\n",
       "<style scoped>\n",
       "    .dataframe tbody tr th:only-of-type {\n",
       "        vertical-align: middle;\n",
       "    }\n",
       "\n",
       "    .dataframe tbody tr th {\n",
       "        vertical-align: top;\n",
       "    }\n",
       "\n",
       "    .dataframe thead th {\n",
       "        text-align: right;\n",
       "    }\n",
       "</style>\n",
       "<table border=\"1\" class=\"dataframe\">\n",
       "  <thead>\n",
       "    <tr style=\"text-align: right;\">\n",
       "      <th></th>\n",
       "      <th>run_id</th>\n",
       "      <th>seed</th>\n",
       "      <th>metrics.pearson_M</th>\n",
       "      <th>dist_to_median</th>\n",
       "    </tr>\n",
       "  </thead>\n",
       "  <tbody>\n",
       "    <tr>\n",
       "      <th>4</th>\n",
       "      <td>7d6eaf3270c84eb28e728dfeb88dd7e4</td>\n",
       "      <td>58</td>\n",
       "      <td>0.777123</td>\n",
       "      <td>0.000000</td>\n",
       "    </tr>\n",
       "    <tr>\n",
       "      <th>7</th>\n",
       "      <td>9aed690323a74e859f2cb75d194de277</td>\n",
       "      <td>55</td>\n",
       "      <td>0.763976</td>\n",
       "      <td>0.013147</td>\n",
       "    </tr>\n",
       "    <tr>\n",
       "      <th>1</th>\n",
       "      <td>798fa399a46446bd91e18f2b7d14d48e</td>\n",
       "      <td>61</td>\n",
       "      <td>0.753489</td>\n",
       "      <td>0.023634</td>\n",
       "    </tr>\n",
       "    <tr>\n",
       "      <th>8</th>\n",
       "      <td>2b4bd9f02ec04fdabc9071392b3e072b</td>\n",
       "      <td>54</td>\n",
       "      <td>0.752143</td>\n",
       "      <td>0.024980</td>\n",
       "    </tr>\n",
       "    <tr>\n",
       "      <th>2</th>\n",
       "      <td>b69623f5d69f468bb831509c0ce1042a</td>\n",
       "      <td>60</td>\n",
       "      <td>0.837652</td>\n",
       "      <td>0.060529</td>\n",
       "    </tr>\n",
       "    <tr>\n",
       "      <th>6</th>\n",
       "      <td>9ce2780f25dd46e2a00f2698b2b3f9d9</td>\n",
       "      <td>56</td>\n",
       "      <td>0.888171</td>\n",
       "      <td>0.111047</td>\n",
       "    </tr>\n",
       "    <tr>\n",
       "      <th>5</th>\n",
       "      <td>c21d1153f1084d14a8dc4819b36c9f33</td>\n",
       "      <td>57</td>\n",
       "      <td>0.888416</td>\n",
       "      <td>0.111293</td>\n",
       "    </tr>\n",
       "    <tr>\n",
       "      <th>9</th>\n",
       "      <td>8d62c5b5219c4b59a116751c5937df16</td>\n",
       "      <td>53</td>\n",
       "      <td>0.952923</td>\n",
       "      <td>0.175800</td>\n",
       "    </tr>\n",
       "    <tr>\n",
       "      <th>3</th>\n",
       "      <td>a959206bfffc43d3a169f2fabd920343</td>\n",
       "      <td>59</td>\n",
       "      <td>0.479772</td>\n",
       "      <td>0.297351</td>\n",
       "    </tr>\n",
       "  </tbody>\n",
       "</table>\n",
       "</div>"
      ],
      "text/plain": [
       "                             run_id  seed  metrics.pearson_M  dist_to_median\n",
       "4  7d6eaf3270c84eb28e728dfeb88dd7e4    58           0.777123        0.000000\n",
       "7  9aed690323a74e859f2cb75d194de277    55           0.763976        0.013147\n",
       "1  798fa399a46446bd91e18f2b7d14d48e    61           0.753489        0.023634\n",
       "8  2b4bd9f02ec04fdabc9071392b3e072b    54           0.752143        0.024980\n",
       "2  b69623f5d69f468bb831509c0ce1042a    60           0.837652        0.060529\n",
       "6  9ce2780f25dd46e2a00f2698b2b3f9d9    56           0.888171        0.111047\n",
       "5  c21d1153f1084d14a8dc4819b36c9f33    57           0.888416        0.111293\n",
       "9  8d62c5b5219c4b59a116751c5937df16    53           0.952923        0.175800\n",
       "3  a959206bfffc43d3a169f2fabd920343    59           0.479772        0.297351"
      ]
     },
     "execution_count": 14,
     "metadata": {},
     "output_type": "execute_result"
    }
   ],
   "source": [
    "df_plot[['run_id', 'seed', 'metrics.pearson_M', 'dist_to_median']\n",
    "       ].sort_values('dist_to_median')"
   ]
  },
  {
   "cell_type": "code",
   "execution_count": 15,
   "metadata": {},
   "outputs": [],
   "source": [
    "df_plot[\"Model\"] = \"learnable\""
   ]
  },
  {
   "cell_type": "code",
   "execution_count": 16,
   "metadata": {},
   "outputs": [],
   "source": [
    "existing_df_plot = pd.read_csv(\"../data/main-figure-experiments.csv\")"
   ]
  },
  {
   "cell_type": "code",
   "execution_count": 17,
   "metadata": {},
   "outputs": [],
   "source": [
    "existing_df_plot = existing_df_plot[existing_df_plot.Model != 'learnable']"
   ]
  },
  {
   "cell_type": "code",
   "execution_count": 18,
   "metadata": {},
   "outputs": [],
   "source": [
    "pd.concat([existing_df_plot, df_plot],\n",
    "    join=\"inner\",\n",
    "    ignore_index=True,\n",
    ").to_csv(\"../data/main-figure-experiments.csv\", index=False)"
   ]
  },
  {
   "cell_type": "code",
   "execution_count": null,
   "metadata": {},
   "outputs": [],
   "source": []
  }
 ],
 "metadata": {
  "kernelspec": {
   "display_name": "learnable-econ-abm",
   "language": "python",
   "name": "learnable-econ-abm"
  },
  "language_info": {
   "codemirror_mode": {
    "name": "ipython",
    "version": 3
   },
   "file_extension": ".py",
   "mimetype": "text/x-python",
   "name": "python",
   "nbconvert_exporter": "python",
   "pygments_lexer": "ipython3",
   "version": "3.7.7"
  }
 },
 "nbformat": 4,
 "nbformat_minor": 4
}
